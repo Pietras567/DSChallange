{
 "cells": [
  {
   "metadata": {},
   "cell_type": "markdown",
   "source": [
    "# Tanzania Tourism Prediction - Prognozy dotyczące turystyki w Tanzanii\n",
    "<h2>Autorzy:</h2><br>\n",
    "<ul>\n",
    "<li>Piotr Janiszek 247678</li>\n",
    "<li>Kacper Białek 247629</li>\n",
    "<li>Franciszek Pawlak 247756</li>\n",
    "<li>Michał Korblit 242427</li>\n",
    "</ul>"
   ],
   "id": "8a77807f92f26ee"
  },
  {
   "metadata": {},
   "cell_type": "markdown",
   "source": "<h3>Imports</h3>",
   "id": "259a10b6942f3e3c"
  },
  {
   "metadata": {},
   "cell_type": "code",
   "source": [
    "import numpy as np\n",
    "import pandas as pd"
   ],
   "id": "a8d8b4bcc8072682",
   "outputs": [],
   "execution_count": null
  },
  {
   "metadata": {},
   "cell_type": "markdown",
   "source": "<h3>Data loadind</h3>\n",
   "id": "bbebe9a3844f4307"
  },
  {
   "metadata": {},
   "cell_type": "code",
   "source": [
    "df_train = pd.read_csv('data/Train.csv')\n",
    "df_test = pd.read_csv('data/Test.csv')"
   ],
   "id": "3e60d14fd29bf9cd",
   "outputs": [],
   "execution_count": null
  },
  {
   "metadata": {},
   "cell_type": "markdown",
   "source": "<h3>Data Cleaning</h3>",
   "id": "e81356a754097e7"
  },
  {
   "metadata": {},
   "cell_type": "code",
   "source": [
    "count = df_train.isna().any(axis=1).sum()\n",
    "df_train.loc[df_train['most_impressing'].isna(), 'most_impressing'] = 'No comments'\n",
    "count2 = df_train.isna().any(axis=1).sum()\n",
    "\n",
    "# idzie przez kolumny z nan\n",
    "for index, row in df_train[df_train.isna().any(axis=1)].iterrows():\n",
    "    # Completing the travel_with field with the value Alone, when the number of people shows that he travels alone\n",
    "    if pd.isna(row['travel_with']) & ((row['total_male'] + row['total_female']) == 1):\n",
    "        df_train.loc[index, 'travel_with'] = 'Alone'\n",
    "    # Completing the travel_with field with the estimated value when only one gender participated in the trip and the number of people exceeds one\n",
    "    elif (pd.isna(row['travel_with']) & ((row['total_male'] + row['total_female']) > 1) &\n",
    "            ((row['total_male'] == 0 | pd.isna(row['total_male'])) | (row['total_female'] == 0 | pd.isna(row['total_female'])))):\n",
    "        df_train.loc[index, 'travel_with'] = 'Friends/Relatives'\n",
    "\n",
    "        #df_train.loc[index, 'travel_with'] = 'Children'\n",
    "        print(\"Z mordeczkami albo z dzieckiem\")\n",
    "        #print(row['total_male'] + row['total_female'])\n",
    "    elif pd.isna(row['travel_with']) & ((row['total_male'] + row['total_female']) == 0):\n",
    "        df_train.loc[index, 'travel_with'] = 'Alone'\n",
    "        print('predykcja płci')\n",
    "    elif (row['purpose'] == 'Leisure and Holidays') & (row['total_male'] > 0) & (row['total_female'] > 0) & pd.isna(row['travel_with']):\n",
    "        print(\"Wakacje, ale z kim\")\n",
    "    elif pd.isna(row['travel_with']) & (row['total_male'] == 0 | pd.isna(row['total_male'])) | (row['total_female'] == 0 | pd.isna(row['total_female'])):\n",
    "        print(\"Brakuje liczby osob czesciowo\")\n",
    "    elif not pd.isna(row['travel_with']):\n",
    "        print(f\"{row['travel_with']}\"\n",
    "              f\"\\n{row['total_male']}\"\n",
    "              f\"\\n{row['total_female']}\")\n",
    "\n",
    "\n",
    "count3 = df_train.isna().any(axis=1).sum()\n",
    "\n",
    "print(\"Liczba wierszy z brakującymi wartościami:\", count)\n",
    "print(\"Liczba wierszy z brakującymi wartościami 2:\", count2)\n",
    "print(\"Liczba wierszy z brakującymi wartościami 3:\", count3)\n",
    "\n",
    "for index, row in df_train[df_train.isna().any(axis=1)].iterrows():\n",
    "    #print(row)\n",
    "    pass\n"
   ],
   "id": "2c3c86783ea1b685",
   "outputs": [],
   "execution_count": null
  },
  {
   "metadata": {},
   "cell_type": "code",
   "source": "",
   "id": "7e604bce95144678",
   "outputs": [],
   "execution_count": null
  },
  {
   "metadata": {},
   "cell_type": "code",
   "source": "",
   "id": "8546bc77dc3de5f6",
   "outputs": [],
   "execution_count": null
  }
 ],
 "metadata": {
  "kernelspec": {
   "display_name": "Python 3",
   "language": "python",
   "name": "python3"
  },
  "language_info": {
   "codemirror_mode": {
    "name": "ipython",
    "version": 2
   },
   "file_extension": ".py",
   "mimetype": "text/x-python",
   "name": "python",
   "nbconvert_exporter": "python",
   "pygments_lexer": "ipython2",
   "version": "2.7.6"
  }
 },
 "nbformat": 4,
 "nbformat_minor": 5
}
